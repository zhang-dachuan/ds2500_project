{
 "cells": [
  {
   "cell_type": "markdown",
   "metadata": {
    "id": "LEGldxOUX8So"
   },
   "source": [
    "Mounting Drive"
   ]
  },
  {
   "cell_type": "code",
   "execution_count": null,
   "metadata": {
    "colab": {
     "base_uri": "https://localhost:8080/"
    },
    "executionInfo": {
     "elapsed": 1078,
     "status": "ok",
     "timestamp": 1617459079490,
     "user": {
      "displayName": "Preston Reep",
      "photoUrl": "",
      "userId": "11698874008233963841"
     },
     "user_tz": 240
    },
    "id": "z8XRvGrHX-Zk",
    "outputId": "3d9267ef-f81b-4e97-e81e-67d4f2999190"
   },
   "outputs": [
    {
     "name": "stdout",
     "output_type": "stream",
     "text": [
      "Drive already mounted at /content/drive; to attempt to forcibly remount, call drive.mount(\"/content/drive\", force_remount=True).\n"
     ]
    }
   ],
   "source": [
    "# # Mounting the drive\n",
    "# from google.colab import drive\n",
    "# drive.mount('/content/drive')"
   ]
  },
  {
   "cell_type": "code",
   "execution_count": null,
   "metadata": {
    "colab": {
     "base_uri": "https://localhost:8080/"
    },
    "executionInfo": {
     "elapsed": 1283,
     "status": "ok",
     "timestamp": 1617459079858,
     "user": {
      "displayName": "Preston Reep",
      "photoUrl": "",
      "userId": "11698874008233963841"
     },
     "user_tz": 240
    },
    "id": "xT6TzlHpYB3I",
    "outputId": "5de9fd9a-a003-4bb7-9415-4ec764cf29b8"
   },
   "outputs": [
    {
     "name": "stdout",
     "output_type": "stream",
     "text": [
      "[Errno 2] No such file or directory: '/content/drive/My Drive/DS2500 Project'\n",
      "/content\n"
     ]
    }
   ],
   "source": [
    "# Changing directory IMPORTANT!\n",
    "# %cd /content/drive/My Drive/DS2500 Project"
   ]
  },
  {
   "cell_type": "code",
   "execution_count": null,
   "metadata": {
    "colab": {
     "base_uri": "https://localhost:8080/",
     "height": 35
    },
    "executionInfo": {
     "elapsed": 1262,
     "status": "ok",
     "timestamp": 1617459079864,
     "user": {
      "displayName": "Preston Reep",
      "photoUrl": "",
      "userId": "11698874008233963841"
     },
     "user_tz": 240
    },
    "id": "qdIZ9W-LYKrx",
    "outputId": "0446b35b-e8c3-420d-db84-92d277a290ec"
   },
   "outputs": [
    {
     "data": {
      "application/vnd.google.colaboratory.intrinsic+json": {
       "type": "string"
      },
      "text/plain": [
       "'/content'"
      ]
     },
     "execution_count": 16,
     "metadata": {
      "tags": []
     },
     "output_type": "execute_result"
    }
   ],
   "source": [
    "# %pwd"
   ]
  },
  {
   "cell_type": "markdown",
   "metadata": {
    "id": "PexaNoW0YYfo"
   },
   "source": [
    "Importing Data"
   ]
  },
  {
   "cell_type": "code",
   "execution_count": 1,
   "metadata": {
    "id": "zbFUErHdYby7"
   },
   "outputs": [
    {
     "ename": "ModuleNotFoundError",
     "evalue": "No module named 'wordcloud'",
     "output_type": "error",
     "traceback": [
      "\u001b[0;31m---------------------------------------------------------------------------\u001b[0m",
      "\u001b[0;31mModuleNotFoundError\u001b[0m                       Traceback (most recent call last)",
      "\u001b[0;32m<ipython-input-1-7cf86e655359>\u001b[0m in \u001b[0;36m<module>\u001b[0;34m\u001b[0m\n\u001b[1;32m      2\u001b[0m \u001b[0;32mimport\u001b[0m \u001b[0mre\u001b[0m\u001b[0;34m\u001b[0m\u001b[0;34m\u001b[0m\u001b[0m\n\u001b[1;32m      3\u001b[0m \u001b[0;32mfrom\u001b[0m \u001b[0mpathlib\u001b[0m \u001b[0;32mimport\u001b[0m \u001b[0mPath\u001b[0m\u001b[0;34m\u001b[0m\u001b[0;34m\u001b[0m\u001b[0m\n\u001b[0;32m----> 4\u001b[0;31m \u001b[0;32mimport\u001b[0m \u001b[0mwordcloud\u001b[0m \u001b[0;32mas\u001b[0m \u001b[0mwc\u001b[0m\u001b[0;34m\u001b[0m\u001b[0;34m\u001b[0m\u001b[0m\n\u001b[0m\u001b[1;32m      5\u001b[0m \u001b[0;32mimport\u001b[0m \u001b[0mseaborn\u001b[0m \u001b[0;32mas\u001b[0m \u001b[0msns\u001b[0m\u001b[0;34m\u001b[0m\u001b[0;34m\u001b[0m\u001b[0m\n\u001b[1;32m      6\u001b[0m \u001b[0;32mimport\u001b[0m \u001b[0mmatplotlib\u001b[0m\u001b[0;34m.\u001b[0m\u001b[0mpyplot\u001b[0m \u001b[0;32mas\u001b[0m \u001b[0mplt\u001b[0m\u001b[0;34m\u001b[0m\u001b[0;34m\u001b[0m\u001b[0m\n",
      "\u001b[0;31mModuleNotFoundError\u001b[0m: No module named 'wordcloud'"
     ]
    }
   ],
   "source": [
    "import pandas as pd\n",
    "import re\n",
    "from pathlib import Path\n",
    "import wordcloud as wc\n",
    "import seaborn as sns\n",
    "import matplotlib.pyplot as plt\n",
    "from textblob import TextBlob\n",
    "import imageio\n",
    "from collections import Counter\n",
    "\n",
    "pd.set_option('display.max_columns', None)"
   ]
  },
  {
   "cell_type": "code",
   "execution_count": null,
   "metadata": {
    "id": "6CCpncxlh0-i"
   },
   "outputs": [],
   "source": [
    "def read_file(filename, column1, column2):\n",
    "  #y = '/content/drive/My Drive/DS2500 Project/'+ filename\n",
    "  y = filename\n",
    "  x = pd.read_csv(r)\n",
    "  x[column1] = [word.lower() for word in x[column1]]\n",
    "  x[column2] = [word.lower() for word in x[column2]]\n",
    "  x[column1] = [re.sub('[^\\w\\s]','',word) for word in x[column1]]\n",
    "  x[column2] = [re.sub('[^\\w\\s]','',word) for word in x[column2]]\n",
    "  x['key'] = x[column1] + \" \" + x[column2]\n",
    "\n",
    "  return x"
   ]
  },
  {
   "cell_type": "code",
   "execution_count": null,
   "metadata": {
    "colab": {
     "base_uri": "https://localhost:8080/",
     "height": 291
    },
    "executionInfo": {
     "elapsed": 1280,
     "status": "error",
     "timestamp": 1617459079926,
     "user": {
      "displayName": "Preston Reep",
      "photoUrl": "",
      "userId": "11698874008233963841"
     },
     "user_tz": 240
    },
    "id": "QPmisNmOjBVZ",
    "outputId": "fac2e595-baaa-4e0d-c55c-d88ad1ef61be"
   },
   "outputs": [
    {
     "ename": "NameError",
     "evalue": "ignored",
     "output_type": "error",
     "traceback": [
      "\u001b[0;31m---------------------------------------------------------------------------\u001b[0m",
      "\u001b[0;31mNameError\u001b[0m                                 Traceback (most recent call last)",
      "\u001b[0;32m<ipython-input-19-e7c470d0c4f2>\u001b[0m in \u001b[0;36m<module>\u001b[0;34m()\u001b[0m\n\u001b[0;32m----> 1\u001b[0;31m \u001b[0msongs\u001b[0m \u001b[0;34m=\u001b[0m \u001b[0mread_file\u001b[0m\u001b[0;34m(\u001b[0m\u001b[0;34m'top_40.csv'\u001b[0m\u001b[0;34m,\u001b[0m \u001b[0;34m'TITLE'\u001b[0m\u001b[0;34m,\u001b[0m \u001b[0;34m'ARTIST'\u001b[0m\u001b[0;34m)\u001b[0m\u001b[0;34m\u001b[0m\u001b[0;34m\u001b[0m\u001b[0m\n\u001b[0m",
      "\u001b[0;32m<ipython-input-18-50222eadf89e>\u001b[0m in \u001b[0;36mread_file\u001b[0;34m(filename, column1, column2)\u001b[0m\n\u001b[1;32m      1\u001b[0m \u001b[0;32mdef\u001b[0m \u001b[0mread_file\u001b[0m\u001b[0;34m(\u001b[0m\u001b[0mfilename\u001b[0m\u001b[0;34m,\u001b[0m \u001b[0mcolumn1\u001b[0m\u001b[0;34m,\u001b[0m \u001b[0mcolumn2\u001b[0m\u001b[0;34m)\u001b[0m\u001b[0;34m:\u001b[0m\u001b[0;34m\u001b[0m\u001b[0;34m\u001b[0m\u001b[0m\n\u001b[1;32m      2\u001b[0m   \u001b[0my\u001b[0m \u001b[0;34m=\u001b[0m \u001b[0;34m'/content/drive/My Drive/DS2500 Project/'\u001b[0m\u001b[0;34m+\u001b[0m \u001b[0mfilename\u001b[0m\u001b[0;34m\u001b[0m\u001b[0;34m\u001b[0m\u001b[0m\n\u001b[0;32m----> 3\u001b[0;31m   \u001b[0mx\u001b[0m \u001b[0;34m=\u001b[0m \u001b[0mpd\u001b[0m\u001b[0;34m.\u001b[0m\u001b[0mread_csv\u001b[0m\u001b[0;34m(\u001b[0m\u001b[0mr\u001b[0m\u001b[0;34m)\u001b[0m\u001b[0;34m\u001b[0m\u001b[0;34m\u001b[0m\u001b[0m\n\u001b[0m\u001b[1;32m      4\u001b[0m   \u001b[0mx\u001b[0m\u001b[0;34m[\u001b[0m\u001b[0mcolumn1\u001b[0m\u001b[0;34m]\u001b[0m \u001b[0;34m=\u001b[0m \u001b[0;34m[\u001b[0m\u001b[0mword\u001b[0m\u001b[0;34m.\u001b[0m\u001b[0mlower\u001b[0m\u001b[0;34m(\u001b[0m\u001b[0;34m)\u001b[0m \u001b[0;32mfor\u001b[0m \u001b[0mword\u001b[0m \u001b[0;32min\u001b[0m \u001b[0mx\u001b[0m\u001b[0;34m[\u001b[0m\u001b[0mcolumn1\u001b[0m\u001b[0;34m]\u001b[0m\u001b[0;34m]\u001b[0m\u001b[0;34m\u001b[0m\u001b[0;34m\u001b[0m\u001b[0m\n\u001b[1;32m      5\u001b[0m   \u001b[0mx\u001b[0m\u001b[0;34m[\u001b[0m\u001b[0mcolumn2\u001b[0m\u001b[0;34m]\u001b[0m \u001b[0;34m=\u001b[0m \u001b[0;34m[\u001b[0m\u001b[0mword\u001b[0m\u001b[0;34m.\u001b[0m\u001b[0mlower\u001b[0m\u001b[0;34m(\u001b[0m\u001b[0;34m)\u001b[0m \u001b[0;32mfor\u001b[0m \u001b[0mword\u001b[0m \u001b[0;32min\u001b[0m \u001b[0mx\u001b[0m\u001b[0;34m[\u001b[0m\u001b[0mcolumn2\u001b[0m\u001b[0;34m]\u001b[0m\u001b[0;34m]\u001b[0m\u001b[0;34m\u001b[0m\u001b[0;34m\u001b[0m\u001b[0m\n",
      "\u001b[0;31mNameError\u001b[0m: name 'r' is not defined"
     ]
    }
   ],
   "source": [
    "songs = read_file('top_40.csv', 'TITLE', 'ARTIST')"
   ]
  },
  {
   "cell_type": "code",
   "execution_count": null,
   "metadata": {
    "id": "4HK3uGw5E3DA"
   },
   "outputs": [],
   "source": [
    "from google.colab import drive\n",
    "drive.mount('/content/drive')"
   ]
  },
  {
   "cell_type": "code",
   "execution_count": null,
   "metadata": {
    "id": "DJQDPZtIjR6S"
   },
   "outputs": [],
   "source": [
    "song_data = read_file('data.csv', 'name', 'artists')"
   ]
  },
  {
   "cell_type": "code",
   "execution_count": null,
   "metadata": {
    "id": "_yHIatpkvI-V"
   },
   "outputs": [],
   "source": [
    "combined = songs.merge(song_data, left_on=songs['key'], right_on=song_data['key'],how = 'left')\n"
   ]
  },
  {
   "cell_type": "code",
   "execution_count": null,
   "metadata": {
    "id": "ZW59YIamrd8E"
   },
   "outputs": [],
   "source": [
    "combined.columns"
   ]
  },
  {
   "cell_type": "code",
   "execution_count": null,
   "metadata": {
    "id": "lkNyd_rIrE7e"
   },
   "outputs": [],
   "source": [
    "combined.drop_duplicates(subset =\"key_0\", \n",
    "                     keep = \"last\", inplace = True)\n",
    "print(combined)"
   ]
  },
  {
   "cell_type": "markdown",
   "metadata": {
    "id": "m83p1TxBR7lk"
   },
   "source": [
    "PART 1: ANALYZING SONG INFORMATION"
   ]
  },
  {
   "cell_type": "code",
   "execution_count": null,
   "metadata": {
    "id": "UysSd9uWLMiL"
   },
   "outputs": [],
   "source": [
    "#visualizing the distribution of duration\n",
    "import matplotlib.pyplot as plt\n",
    "\n",
    "def duration(df, column, bins = 10):\n",
    "  df[\"duration_second\"] = df[column] * 0.001\n",
    "  plt.hist(df[\"duration_second\"])\n",
    "  plt.xlabel(\"Duration of songs in seconds\")\n",
    "  plt.ylabel(\"Count of songs\")\n",
    "  plt.title(\"Distribution of Top Songs' Duration\")\n",
    "\n",
    "duration(combined, \"duration_ms\")"
   ]
  },
  {
   "cell_type": "code",
   "execution_count": null,
   "metadata": {
    "id": "xrikS_TryGB8"
   },
   "outputs": [],
   "source": [
    "def ranking(df, column):\n",
    "    \n",
    "    df[column] = df[column].astype(int)\n",
    "    rank = 1\n",
    "    last_value = df[column[0]]\n",
    "    ranked_dict = dict()\n",
    "    for name in column:\n",
    "      value = df[name]\n",
    "    if value_x != value_y:\n",
    "        rank += 1\n",
    "    ranked_dict[name] = rank\n",
    "    value_y = value_x\n",
    "\n",
    "    df1 = pd.DataFrame(ranked_dict.nlargest(40, column))  # Dataframe of songs\n",
    "    df1[column_name] = [40, 39, 38, 37, 36, 35, 34, 33, 32, 31, 30, 29, 28, 27, 26, 25, 24, 23, 22, 21, 20, 19, 18, 17, 16, 15, 14, 13, 12, 10, 9, 8, 7, 6, 5, 4, 3, 2, 1]   # Assign score to songs\n",
    "    \n",
    "    return df\n",
    "\n",
    "test = ranking(combined, 'duration_second')\n",
    "print(test)\n",
    "\n",
    "\n",
    "\n"
   ]
  },
  {
   "cell_type": "code",
   "execution_count": null,
   "metadata": {
    "id": "5josb1dMREwG"
   },
   "outputs": [],
   "source": [
    "def score(lst):\n",
    "    mydict = {}\n",
    "    \n",
    "    for x in lst:\n",
    "        \n",
    "        for song in x['TITLE']:\n",
    "    \n",
    "            score= x.loc[x['TITLE'] == team, 'Score'].iloc[0]   #Give individual score to song from previous function\n",
    "            if song in mydict:   # Find cumulative score for each song\n",
    "                \n",
    "                mydict[song] += score\n",
    "            else:\n",
    "                \n",
    "                mydict[song] = score\n",
    "                \n",
    "                \n",
    "                \n",
    "    return mydict "
   ]
  },
  {
   "cell_type": "markdown",
   "metadata": {
    "id": "dmG3YdtYR2XG"
   },
   "source": [
    "PART 2: READING AND ANALYZING LYRICS\n"
   ]
  },
  {
   "cell_type": "code",
   "execution_count": null,
   "metadata": {
    "id": "sfjYwrgzZYHI"
   },
   "outputs": [],
   "source": [
    "#reads lyric files\n",
    "\n",
    "def read_lyrics(filename):\n",
    "    \"\"\" Opens and reads file and returns a list of strings \"\"\"\n",
    "    with open(filename) as infile:\n",
    "        lyrics = infile.readlines()\n",
    "        return lyrics"
   ]
  },
  {
   "cell_type": "code",
   "execution_count": null,
   "metadata": {
    "id": "WKfXCFOYZ4IG"
   },
   "outputs": [],
   "source": [
    "roses = read_lyrics('roses.txt')\n",
    "roses"
   ]
  },
  {
   "cell_type": "code",
   "execution_count": null,
   "metadata": {
    "id": "SV56gGFmZle3"
   },
   "outputs": [],
   "source": [
    "stop_words =[\"a\", \"an\", \"and\", \"the\", \"to\", \"i\", \"if\", \"of\", \"that\", \"it\",\n",
    "            \"is\", \"im\", \"has\", \"was\", \"his\", \"ive\", \"at\", \"in\", \"your\", \"its\",\n",
    "            \"for\", \"this\", \"we\", \"but\", \"by\", \"are\", \"our\", \"as\"]"
   ]
  },
  {
   "cell_type": "code",
   "execution_count": null,
   "metadata": {
    "id": "ugIgTB7KZJ19"
   },
   "outputs": [],
   "source": [
    "#cleans up lyrics\n",
    "\n",
    "def clean_text(lyrics):\n",
    "    ''' Inputs a list of strings, removes punctuation, stop words,\n",
    "    new line characters, and turns words lower case as a list of strings\n",
    "    '''\n",
    "    clean_lyrics = []\n",
    "    for line in lyrics:\n",
    "        line = re.sub(\"[^\\w\\s]\", \"\", line)\n",
    "        line = line.lower()\n",
    "        line = line.replace(\"\\n\", \"\")\n",
    "        \n",
    "        clean_line = [word for word in line.split(\" \") if word not in stop_words]\n",
    "             \n",
    "        if clean_line != [\"\"]:\n",
    "            clean_string = \" \".join(clean_line)\n",
    "            clean_lyrics.append(clean_string)\n",
    "            \n",
    "    return clean_lyrics"
   ]
  },
  {
   "cell_type": "code",
   "execution_count": null,
   "metadata": {
    "id": "HzpRn012aS8V"
   },
   "outputs": [],
   "source": [
    "clean_roses = clean_text(roses)"
   ]
  },
  {
   "cell_type": "code",
   "execution_count": null,
   "metadata": {
    "id": "dfHhma4LYssq"
   },
   "outputs": [],
   "source": [
    "#word cloud generator\n",
    "\n",
    "def cloud_generator(filename, image=None):\n",
    "  lyrics = Path(filename).read_text()\n",
    "  #MASK = imageio.imread(image)\n",
    "  generate_cloud = wc.WordCloud(width=1000, height=1000)\n",
    "\n",
    "  cloud = generate_cloud.generate(lyrics)\n",
    "  plt.imshow(cloud)\n"
   ]
  },
  {
   "cell_type": "code",
   "execution_count": null,
   "metadata": {
    "id": "Z864tTtHc8zC"
   },
   "outputs": [],
   "source": [
    "cloud_generator('roses.txt')"
   ]
  },
  {
   "cell_type": "code",
   "execution_count": null,
   "metadata": {
    "id": "l4I-m8vMbqEL"
   },
   "outputs": [],
   "source": [
    "#scores lyrics for sentiment analysis\n",
    "\n",
    "def score_songs(lyrics, minsub=0.0, maxsub=1.0, minpol=-1.0, maxpol=1.0):\n",
    "    \"\"\" Score each poem for sentiment (polarity/subjectivity) and return as a dictionary (tweet --> (pol/subj)) \"\"\"\n",
    "    \n",
    "    filtered = {}\n",
    "    for line in lyrics:\n",
    "        pol, sub = TextBlob(line).sentiment\n",
    "        if minpol <= pol <= maxpol and minsub <= sub <= maxsub:\n",
    "            filtered[line] = (pol, sub)\n",
    "    \n",
    "    return filtered"
   ]
  },
  {
   "cell_type": "code",
   "execution_count": null,
   "metadata": {
    "id": "ihy0e9lMdlvo"
   },
   "outputs": [],
   "source": [
    "roses_scored = score_songs(clean_roses)"
   ]
  },
  {
   "cell_type": "code",
   "execution_count": null,
   "metadata": {
    "id": "7NCI30t8byXb"
   },
   "outputs": [],
   "source": [
    "#generates sentiment analysis graph\n",
    "\n",
    "fig, ax = plt.subplots(figsize=(10,10), dpi=100)\n",
    "plt.xlabel('Subjectivity')\n",
    "plt.ylabel('Polarity')\n",
    "plt.title('Top 40 Songs Sentiment Analysis')\n",
    "\n",
    "def polarity_vs_subjectivity(scored_lyrics, DATA_COLOR, LINE_COLOR, LABEL):\n",
    "    scores = scored_lyrics.values()\n",
    "    polarity = [x[0] for x in scores]\n",
    "    subjectivity = [x[1] for x in scores]\n",
    "    \n",
    "    sns.scatterplot(x=subjectivity, y=polarity, s=3, color=DATA_COLOR)\n",
    "    sns.kdeplot(x=subjectivity, y=polarity, color=LINE_COLOR, label=LABEL)\n",
    "\n",
    "polarity_vs_subjectivity(roses_scored, 'palegoldenrod', 'palegoldenrod', 'Roses -- SAINt JHN')\n",
    "plt.legend()"
   ]
  },
  {
   "cell_type": "code",
   "execution_count": null,
   "metadata": {
    "id": "zqWXVmoWcCIN"
   },
   "outputs": [],
   "source": [
    "'''\n",
    "sns.set(font_scale=.5)\n",
    "    sns.heatmap(total_df, xticklabels=True, yticklabels=True)\n",
    "    plt.title(\"Obama's Top 100 Common Words Among Other Presidential Inauguration Speeches\")\n",
    "    plt.xlabel('President')\n",
    "    plt.ylabel('Words')\n",
    "    plt.show()\n",
    "'''"
   ]
  },
  {
   "cell_type": "code",
   "execution_count": null,
   "metadata": {
    "id": "DFUGrXsBFq_g"
   },
   "outputs": [],
   "source": []
  }
 ],
 "metadata": {
  "colab": {
   "collapsed_sections": [],
   "name": "ds_project.ipynb",
   "provenance": []
  },
  "kernelspec": {
   "display_name": "Python 3",
   "language": "python",
   "name": "python3"
  },
  "language_info": {
   "codemirror_mode": {
    "name": "ipython",
    "version": 3
   },
   "file_extension": ".py",
   "mimetype": "text/x-python",
   "name": "python",
   "nbconvert_exporter": "python",
   "pygments_lexer": "ipython3",
   "version": "3.8.5"
  }
 },
 "nbformat": 4,
 "nbformat_minor": 1
}
